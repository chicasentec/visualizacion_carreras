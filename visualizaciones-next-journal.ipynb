{
 "cells": [
  {
   "cell_type": "markdown",
   "metadata": {},
   "source": [
    "# Visualizacion varias"
   ]
  },
  {
   "cell_type": "code",
   "execution_count": 23,
   "metadata": {},
   "outputs": [],
   "source": [
    "import pandas as pd\n",
    "import numpy as np\n",
    "import matplotlib.pyplot as plt\n",
    "from matplotlib.ticker import MaxNLocator\n",
    "from collections import namedtuple\n",
    "from scipy import stats\n",
    "import seaborn as sns\n",
    "import geopandas as gpd\n",
    "import matplotlib\n",
    "import ipywidgets as widgets\n",
    "from ipywidgets import interact\n",
    "matplotlib.style.use(\"ggplot\")\n",
    "import folium\n",
    "from folium.plugins import DualMap \n",
    "import mapas\n",
    "from shapely.geometry import Polygon, MultiPolygon\n",
    "from pygal_helpers import df_to_pygal_line, get_pygal_html\n",
    "from datetime import datetime\n",
    "from IPython.display import HTML, display"
   ]
  },
  {
   "cell_type": "code",
   "execution_count": null,
   "metadata": {},
   "outputs": [],
   "source": []
  },
  {
   "cell_type": "code",
   "execution_count": null,
   "metadata": {},
   "outputs": [],
   "source": []
  },
  {
   "cell_type": "code",
   "execution_count": null,
   "metadata": {},
   "outputs": [],
   "source": []
  },
  {
   "cell_type": "code",
   "execution_count": null,
   "metadata": {},
   "outputs": [],
   "source": []
  },
  {
   "cell_type": "markdown",
   "metadata": {},
   "source": [
    "## Evolucion de genero en grupo de carreras"
   ]
  },
  {
   "cell_type": "code",
   "execution_count": 34,
   "metadata": {},
   "outputs": [
    {
     "data": {
      "text/html": [
       "<div>\n",
       "<style scoped>\n",
       "    .dataframe tbody tr th:only-of-type {\n",
       "        vertical-align: middle;\n",
       "    }\n",
       "\n",
       "    .dataframe tbody tr th {\n",
       "        vertical-align: top;\n",
       "    }\n",
       "\n",
       "    .dataframe thead th {\n",
       "        text-align: right;\n",
       "    }\n",
       "</style>\n",
       "<table border=\"1\" class=\"dataframe\">\n",
       "  <thead>\n",
       "    <tr style=\"text-align: right;\">\n",
       "      <th></th>\n",
       "      <th>anio</th>\n",
       "      <th>carrera_grupo</th>\n",
       "      <th>estudiantes_total</th>\n",
       "      <th>estudiantes_varones</th>\n",
       "      <th>estudiantes_mujeres</th>\n",
       "      <th>nuevos_inscriptos_total</th>\n",
       "      <th>nuevos_inscriptos_varones</th>\n",
       "      <th>nuevos_inscriptos_mujeres</th>\n",
       "      <th>egresados_total</th>\n",
       "      <th>egresados_varones</th>\n",
       "      <th>egresados_mujeres</th>\n",
       "      <th>estudiantes_mujeres_pct</th>\n",
       "      <th>inscripciones_mujeres_pct</th>\n",
       "      <th>estudiantes_hombres_pct</th>\n",
       "    </tr>\n",
       "  </thead>\n",
       "  <tbody>\n",
       "    <tr>\n",
       "      <th>0</th>\n",
       "      <td>2010</td>\n",
       "      <td>Arquitectura</td>\n",
       "      <td>70587.0</td>\n",
       "      <td>26843.0</td>\n",
       "      <td>25641.0</td>\n",
       "      <td>13655.0</td>\n",
       "      <td>5266.0</td>\n",
       "      <td>5240.0</td>\n",
       "      <td>3166.0</td>\n",
       "      <td>1121.0</td>\n",
       "      <td>1309.0</td>\n",
       "      <td>0.363254</td>\n",
       "      <td>0.383742</td>\n",
       "      <td>0.380282</td>\n",
       "    </tr>\n",
       "    <tr>\n",
       "      <th>1</th>\n",
       "      <td>2010</td>\n",
       "      <td>Arte</td>\n",
       "      <td>84461.0</td>\n",
       "      <td>24721.0</td>\n",
       "      <td>35384.0</td>\n",
       "      <td>23097.0</td>\n",
       "      <td>7455.0</td>\n",
       "      <td>10122.0</td>\n",
       "      <td>2854.0</td>\n",
       "      <td>745.0</td>\n",
       "      <td>1321.0</td>\n",
       "      <td>0.418939</td>\n",
       "      <td>0.438239</td>\n",
       "      <td>0.292691</td>\n",
       "    </tr>\n",
       "    <tr>\n",
       "      <th>2</th>\n",
       "      <td>2010</td>\n",
       "      <td>Deporte</td>\n",
       "      <td>2621.0</td>\n",
       "      <td>1557.0</td>\n",
       "      <td>1064.0</td>\n",
       "      <td>794.0</td>\n",
       "      <td>471.0</td>\n",
       "      <td>323.0</td>\n",
       "      <td>162.0</td>\n",
       "      <td>90.0</td>\n",
       "      <td>72.0</td>\n",
       "      <td>0.405952</td>\n",
       "      <td>0.406801</td>\n",
       "      <td>0.594048</td>\n",
       "    </tr>\n",
       "    <tr>\n",
       "      <th>3</th>\n",
       "      <td>2010</td>\n",
       "      <td>Derecho</td>\n",
       "      <td>237773.0</td>\n",
       "      <td>87646.0</td>\n",
       "      <td>114635.0</td>\n",
       "      <td>56072.0</td>\n",
       "      <td>23004.0</td>\n",
       "      <td>27457.0</td>\n",
       "      <td>15903.0</td>\n",
       "      <td>5184.0</td>\n",
       "      <td>6912.0</td>\n",
       "      <td>0.482120</td>\n",
       "      <td>0.489674</td>\n",
       "      <td>0.368612</td>\n",
       "    </tr>\n",
       "    <tr>\n",
       "      <th>4</th>\n",
       "      <td>2010</td>\n",
       "      <td>Economicas</td>\n",
       "      <td>401354.0</td>\n",
       "      <td>158885.0</td>\n",
       "      <td>184338.0</td>\n",
       "      <td>95385.0</td>\n",
       "      <td>41997.0</td>\n",
       "      <td>43894.0</td>\n",
       "      <td>25750.0</td>\n",
       "      <td>10380.0</td>\n",
       "      <td>11933.0</td>\n",
       "      <td>0.459290</td>\n",
       "      <td>0.460177</td>\n",
       "      <td>0.395872</td>\n",
       "    </tr>\n",
       "    <tr>\n",
       "      <th>5</th>\n",
       "      <td>2010</td>\n",
       "      <td>Educacion</td>\n",
       "      <td>142273.0</td>\n",
       "      <td>35322.0</td>\n",
       "      <td>101339.0</td>\n",
       "      <td>43097.0</td>\n",
       "      <td>11735.0</td>\n",
       "      <td>29675.0</td>\n",
       "      <td>8569.0</td>\n",
       "      <td>1909.0</td>\n",
       "      <td>5994.0</td>\n",
       "      <td>0.712286</td>\n",
       "      <td>0.688563</td>\n",
       "      <td>0.248269</td>\n",
       "    </tr>\n",
       "    <tr>\n",
       "      <th>6</th>\n",
       "      <td>2010</td>\n",
       "      <td>Exactas</td>\n",
       "      <td>43302.0</td>\n",
       "      <td>17651.0</td>\n",
       "      <td>20001.0</td>\n",
       "      <td>10271.0</td>\n",
       "      <td>4196.0</td>\n",
       "      <td>4876.0</td>\n",
       "      <td>2523.0</td>\n",
       "      <td>1008.0</td>\n",
       "      <td>1331.0</td>\n",
       "      <td>0.461896</td>\n",
       "      <td>0.474735</td>\n",
       "      <td>0.407626</td>\n",
       "    </tr>\n",
       "    <tr>\n",
       "      <th>7</th>\n",
       "      <td>2010</td>\n",
       "      <td>Idiomas</td>\n",
       "      <td>13885.0</td>\n",
       "      <td>1909.0</td>\n",
       "      <td>9710.0</td>\n",
       "      <td>4055.0</td>\n",
       "      <td>665.0</td>\n",
       "      <td>2739.0</td>\n",
       "      <td>754.0</td>\n",
       "      <td>71.0</td>\n",
       "      <td>617.0</td>\n",
       "      <td>0.699316</td>\n",
       "      <td>0.675462</td>\n",
       "      <td>0.137486</td>\n",
       "    </tr>\n",
       "    <tr>\n",
       "      <th>8</th>\n",
       "      <td>2010</td>\n",
       "      <td>Ingeniería</td>\n",
       "      <td>104596.0</td>\n",
       "      <td>81481.0</td>\n",
       "      <td>13967.0</td>\n",
       "      <td>22107.0</td>\n",
       "      <td>16686.0</td>\n",
       "      <td>3252.0</td>\n",
       "      <td>4556.0</td>\n",
       "      <td>3488.0</td>\n",
       "      <td>650.0</td>\n",
       "      <td>0.133533</td>\n",
       "      <td>0.147103</td>\n",
       "      <td>0.779007</td>\n",
       "    </tr>\n",
       "    <tr>\n",
       "      <th>9</th>\n",
       "      <td>2010</td>\n",
       "      <td>Letras</td>\n",
       "      <td>340.0</td>\n",
       "      <td>71.0</td>\n",
       "      <td>269.0</td>\n",
       "      <td>76.0</td>\n",
       "      <td>21.0</td>\n",
       "      <td>55.0</td>\n",
       "      <td>17.0</td>\n",
       "      <td>1.0</td>\n",
       "      <td>16.0</td>\n",
       "      <td>0.791176</td>\n",
       "      <td>0.723684</td>\n",
       "      <td>0.208824</td>\n",
       "    </tr>\n",
       "  </tbody>\n",
       "</table>\n",
       "</div>"
      ],
      "text/plain": [
       "   anio carrera_grupo  estudiantes_total  estudiantes_varones  \\\n",
       "0  2010  Arquitectura            70587.0              26843.0   \n",
       "1  2010          Arte            84461.0              24721.0   \n",
       "2  2010       Deporte             2621.0               1557.0   \n",
       "3  2010       Derecho           237773.0              87646.0   \n",
       "4  2010    Economicas           401354.0             158885.0   \n",
       "5  2010     Educacion           142273.0              35322.0   \n",
       "6  2010       Exactas            43302.0              17651.0   \n",
       "7  2010       Idiomas            13885.0               1909.0   \n",
       "8  2010    Ingeniería           104596.0              81481.0   \n",
       "9  2010        Letras              340.0                 71.0   \n",
       "\n",
       "   estudiantes_mujeres  nuevos_inscriptos_total  nuevos_inscriptos_varones  \\\n",
       "0              25641.0                  13655.0                     5266.0   \n",
       "1              35384.0                  23097.0                     7455.0   \n",
       "2               1064.0                    794.0                      471.0   \n",
       "3             114635.0                  56072.0                    23004.0   \n",
       "4             184338.0                  95385.0                    41997.0   \n",
       "5             101339.0                  43097.0                    11735.0   \n",
       "6              20001.0                  10271.0                     4196.0   \n",
       "7               9710.0                   4055.0                      665.0   \n",
       "8              13967.0                  22107.0                    16686.0   \n",
       "9                269.0                     76.0                       21.0   \n",
       "\n",
       "   nuevos_inscriptos_mujeres  egresados_total  egresados_varones  \\\n",
       "0                     5240.0           3166.0             1121.0   \n",
       "1                    10122.0           2854.0              745.0   \n",
       "2                      323.0            162.0               90.0   \n",
       "3                    27457.0          15903.0             5184.0   \n",
       "4                    43894.0          25750.0            10380.0   \n",
       "5                    29675.0           8569.0             1909.0   \n",
       "6                     4876.0           2523.0             1008.0   \n",
       "7                     2739.0            754.0               71.0   \n",
       "8                     3252.0           4556.0             3488.0   \n",
       "9                       55.0             17.0                1.0   \n",
       "\n",
       "   egresados_mujeres  estudiantes_mujeres_pct  inscripciones_mujeres_pct  \\\n",
       "0             1309.0                 0.363254                   0.383742   \n",
       "1             1321.0                 0.418939                   0.438239   \n",
       "2               72.0                 0.405952                   0.406801   \n",
       "3             6912.0                 0.482120                   0.489674   \n",
       "4            11933.0                 0.459290                   0.460177   \n",
       "5             5994.0                 0.712286                   0.688563   \n",
       "6             1331.0                 0.461896                   0.474735   \n",
       "7              617.0                 0.699316                   0.675462   \n",
       "8              650.0                 0.133533                   0.147103   \n",
       "9               16.0                 0.791176                   0.723684   \n",
       "\n",
       "   estudiantes_hombres_pct  \n",
       "0                 0.380282  \n",
       "1                 0.292691  \n",
       "2                 0.594048  \n",
       "3                 0.368612  \n",
       "4                 0.395872  \n",
       "5                 0.248269  \n",
       "6                 0.407626  \n",
       "7                 0.137486  \n",
       "8                 0.779007  \n",
       "9                 0.208824  "
      ]
     },
     "execution_count": 34,
     "metadata": {},
     "output_type": "execute_result"
    }
   ],
   "source": [
    "df_evolucion_carreras = pd.read_csv('data/output/grupos_evolucion_genero.csv',delimiter=',')\n",
    "df_evolucion_grupos_carreras = pd.read_csv('data/output/grupos_carreras_evolucion_genero.csv',delimiter=',')\n",
    "df_evolucion_carreras.head(10)"
   ]
  },
  {
   "cell_type": "code",
   "execution_count": 6,
   "metadata": {},
   "outputs": [
    {
     "data": {
      "text/html": [
       "<div>\n",
       "<style scoped>\n",
       "    .dataframe tbody tr th:only-of-type {\n",
       "        vertical-align: middle;\n",
       "    }\n",
       "\n",
       "    .dataframe tbody tr th {\n",
       "        vertical-align: top;\n",
       "    }\n",
       "\n",
       "    .dataframe thead th {\n",
       "        text-align: right;\n",
       "    }\n",
       "</style>\n",
       "<table border=\"1\" class=\"dataframe\">\n",
       "  <thead>\n",
       "    <tr style=\"text-align: right;\">\n",
       "      <th></th>\n",
       "      <th>anio</th>\n",
       "      <th>carrera_grupo</th>\n",
       "      <th>estudiantes_total</th>\n",
       "      <th>estudiantes_varones</th>\n",
       "      <th>estudiantes_mujeres</th>\n",
       "      <th>nuevos_inscriptos_total</th>\n",
       "      <th>nuevos_inscriptos_varones</th>\n",
       "      <th>nuevos_inscriptos_mujeres</th>\n",
       "      <th>egresados_total</th>\n",
       "      <th>egresados_varones</th>\n",
       "      <th>egresados_mujeres</th>\n",
       "      <th>estudiantes_mujeres_pct</th>\n",
       "      <th>inscripciones_mujeres_pct</th>\n",
       "      <th>estudiantes_hombres_pct</th>\n",
       "    </tr>\n",
       "  </thead>\n",
       "  <tbody>\n",
       "    <tr>\n",
       "      <th>39</th>\n",
       "      <td>2012</td>\n",
       "      <td>Derecho</td>\n",
       "      <td>247478.0</td>\n",
       "      <td>105898.0</td>\n",
       "      <td>141580.0</td>\n",
       "      <td>58102.0</td>\n",
       "      <td>26061.0</td>\n",
       "      <td>32041.0</td>\n",
       "      <td>17940.0</td>\n",
       "      <td>7410.0</td>\n",
       "      <td>10530.0</td>\n",
       "      <td>0.572091</td>\n",
       "      <td>0.551461</td>\n",
       "      <td>0.427909</td>\n",
       "    </tr>\n",
       "  </tbody>\n",
       "</table>\n",
       "</div>"
      ],
      "text/plain": [
       "    anio carrera_grupo  estudiantes_total  estudiantes_varones  \\\n",
       "39  2012       Derecho           247478.0             105898.0   \n",
       "\n",
       "    estudiantes_mujeres  nuevos_inscriptos_total  nuevos_inscriptos_varones  \\\n",
       "39             141580.0                  58102.0                    26061.0   \n",
       "\n",
       "    nuevos_inscriptos_mujeres  egresados_total  egresados_varones  \\\n",
       "39                    32041.0          17940.0             7410.0   \n",
       "\n",
       "    egresados_mujeres  estudiantes_mujeres_pct  inscripciones_mujeres_pct  \\\n",
       "39            10530.0                 0.572091                   0.551461   \n",
       "\n",
       "    estudiantes_hombres_pct  \n",
       "39                 0.427909  "
      ]
     },
     "execution_count": 6,
     "metadata": {},
     "output_type": "execute_result"
    }
   ],
   "source": [
    "df_evolucion_carreras[\n",
    "    (df_evolucion_carreras.carrera_grupo == \"Derecho\") &\n",
    "    (df_evolucion_carreras.anio == 2012)\n",
    "]"
   ]
  },
  {
   "cell_type": "code",
   "execution_count": 7,
   "metadata": {},
   "outputs": [],
   "source": [
    "#Comparacion de valores absolutos de hombres y mujeres - nuevas inscripciones/ filtro por carrera (eje primaro y secundario??)"
   ]
  },
  {
   "cell_type": "code",
   "execution_count": 37,
   "metadata": {},
   "outputs": [],
   "source": [
    "variables_carreras_evolucion = tuple(df_evolucion_carreras.carrera_grupo.unique())\n",
    "widget_grupos=widgets.SelectMultiple(\n",
    "    options=sorted(variables_carreras_evolucion),\n",
    "    value=[\"Tecnologia\"],\n",
    "    #rows=10,\n",
    "    description='Areas Tematicas',\n",
    "    disabled=False\n",
    ")"
   ]
  },
  {
   "cell_type": "code",
   "execution_count": 46,
   "metadata": {},
   "outputs": [
    {
     "data": {
      "application/vnd.jupyter.widget-view+json": {
       "model_id": "eff45374e02b4fc48f578d272afbe3da",
       "version_major": 2,
       "version_minor": 0
      },
      "text/plain": [
       "interactive(children=(SelectMultiple(description='Areas Tematicas', index=(0, 1, 2), options=('Arquitectura', …"
      ]
     },
     "metadata": {},
     "output_type": "display_data"
    }
   ],
   "source": [
    "#Version final\n",
    "variables_indicadores_line = {\n",
    "    \"Ratio mujeres\": \"estudiantes_mujeres_pct\",\n",
    "    \"Est. hombres\": \"estudiantes_hombres_pct\"\n",
    "}\n",
    "\n",
    "widget_indicador = widgets.ToggleButtons(\n",
    "    options=variables_indicadores_line.items(),\n",
    "    description=\"Indicador : \",\n",
    "    value=\"estudiantes_mujeres_pct\"\n",
    ")\n",
    "\n",
    "def format_pct(value):\n",
    "    if pd.notnull(value):\n",
    "        return round((value*100),1)\n",
    "    else:\n",
    "        return value\n",
    "\n",
    "@interact(carrera_grupo=widget_grupos, indicador=widget_indicador)\n",
    "def generate_chart_evolucion_grupos(carrera_grupo, indicador):\n",
    "    serie_grupo_carrera = df_evolucion_carreras[df_evolucion_carreras.carrera_grupo.isin(carrera_grupo)][[\n",
    "        \"anio\", 'carrera_grupo',  indicador]]\n",
    "    serie_grupo_carrera[indicador]=serie_grupo_carrera[indicador].apply(format_pct)\n",
    "    df_pivot_serie_grupo_carrera = serie_grupo_carrera.pivot_table(\n",
    "        index='anio', columns='carrera_grupo', values=indicador)\n",
    "    return HTML(get_pygal_html(df_to_pygal_line(df_pivot_serie_grupo_carrera)))\n",
    "        \n",
    "#aclarar en nota que los valores son porcentajes"
   ]
  },
  {
   "cell_type": "code",
   "execution_count": 35,
   "metadata": {},
   "outputs": [
    {
     "data": {
      "application/vnd.jupyter.widget-view+json": {
       "model_id": "7035cfc4cf2943579e92a5cb7f533c64",
       "version_major": 2,
       "version_minor": 0
      },
      "text/plain": [
       "interactive(children=(SelectMultiple(description='Areas Tematicas', index=(15,), options=('Arquitectura', 'Art…"
      ]
     },
     "metadata": {},
     "output_type": "display_data"
    }
   ],
   "source": [
    "#Version Carrera nombre\n",
    "@interact(carrera_grupo=widget_grupos) #widget diferente\n",
    "def generate_chart_evolucion_grupos(carrera_grupo):\n",
    "    serie_grupo_carrera = df_evolucion_grupos_carreras[df_evolucion_grupos_carreras.carrera_grupo.isin(carrera_grupo)][[\n",
    "        \"anio\", 'carrera_nombre',  \"estudiantes_mujeres_pct\"]]\n",
    "    df_pivot_serie_grupo_carrera = serie_grupo_carrera.pivot_table(index='anio', columns='carrera_nombre', values='estudiantes_mujeres_pct')\n",
    "    return HTML(get_pygal_html(df_to_pygal_line(df_pivot_serie_grupo_carrera)))\n",
    "        "
   ]
  },
  {
   "cell_type": "code",
   "execution_count": 10,
   "metadata": {},
   "outputs": [],
   "source": [
    "#Una vez revisado, armar funcion para este tipo de grafico con un grupo de carrera, me devuelve todas las carreras.\n",
    "# buscar una lib de grafico de linea con tooltip dinamico\n",
    "#grupo = 'Economicas'\n",
    "#df_grupo_carrera = df_evolucion_grupos_carreras[df_evolucion_grupos_carreras.carrera_grupo == grupo][[\n",
    "#        \"anio\", \"estudiantes_mujeres_pct\", 'carrera_nombre', 'carrera_grupo'\n",
    "#    ]]\n",
    "#df_grupo_carrera.pivot_table(index='anio', columns='carrera_nombre', values='estudiantes_mujeres_pct').plot(\n",
    "#figsize=(20,20))"
   ]
  },
  {
   "cell_type": "code",
   "execution_count": 11,
   "metadata": {},
   "outputs": [],
   "source": [
    "#variables_carreras_evolucion = df_evolucion_grupos_carreras.carrera_grupo.unique()\n",
    "#said @interact(carrera_grupo = sorted(variables_carreras_evolucion))\n",
    "#def generate_chart_evolucion_carreras(carrera_grupo):\n",
    "#    df_grupo_carrera = df_evolucion_grupos_carreras[df_evolucion_grupos_carreras.carrera_grupo == carrera_grupo][[\n",
    "#        \"anio\", \"estudiantes_mujeres_pct\"\n",
    "#    ]]\n",
    "#    return serie_grupo_carrera.set_index(\"anio\").plot()\n",
    "    \n",
    "#agregar mas de un filtro para ir comparando\n",
    "#modificar en ETL abogacia y derecho\n",
    "#apertura por carreras para entender donde hace el pico y decrecimiento tech - cambiar pKEY por carrera y grupo carrera - grafico exploratorio\n",
    "#segunda tabla de ETL donde haya grupo carrera (carrera) + universidades\n",
    "#grafico con valores absolutos - apilados o algo que represente orden de magnitud año por default "
   ]
  },
  {
   "cell_type": "markdown",
   "metadata": {},
   "source": [
    "## Mapa universidades"
   ]
  },
  {
   "cell_type": "code",
   "execution_count": 12,
   "metadata": {},
   "outputs": [],
   "source": [
    "df_universidades = pd.read_csv('data/output/universidades_mapa.csv',delimiter=',')\n",
    "df_evolucion_ubicacion = pd.read_csv('data/output/ubicacion_evolucion_genero.csv',delimiter=',', dtype={'provincia_id': str})\n",
    "#revisar etl no perder el str de los numeros\n",
    "#df_evolucion_ubicacion_test = pd.read_csv('data/output/ubicacion_evolucion_genero_test.csv',\n",
    "                                          #delimiter=',', dtype={'provincia_id': str})\n",
    "#revisar etl no perder el str de los numeros"
   ]
  },
  {
   "cell_type": "code",
   "execution_count": 13,
   "metadata": {},
   "outputs": [],
   "source": [
    "argentina_coords = [-40, -64]\n",
    "osm_no_labels = \"https://tiles.wmflabs.org/osm-no-labels/{z}/{x}/{y}.png\"\n",
    "ign_labels = \"http://wms.ign.gob.ar/geoserver/gwc/service/tms/1.0.0/capabaseargenmap@EPSG%3A3857@png/{z}/{x}/{y}.png\""
   ]
  },
  {
   "cell_type": "markdown",
   "metadata": {},
   "source": [
    "## Heat map"
   ]
  },
  {
   "cell_type": "code",
   "execution_count": 14,
   "metadata": {},
   "outputs": [],
   "source": [
    "df_evolucion_ubicacion['provincia_id'] = df_evolucion_ubicacion.provincia_id.str.zfill(2)"
   ]
  },
  {
   "cell_type": "code",
   "execution_count": 15,
   "metadata": {},
   "outputs": [],
   "source": [
    "def get_bins(min_value, max_value, bins_num=5):\n",
    "    step = (max_value - min_value) / bins_num\n",
    "    bins = list(np.arange(min_value, max_value, step))\n",
    "    bins.append(max_value)\n",
    "    return bins"
   ]
  },
  {
   "cell_type": "code",
   "execution_count": 16,
   "metadata": {},
   "outputs": [
    {
     "data": {
      "application/vnd.jupyter.widget-view+json": {
       "model_id": "ce2764a2aedd466aa309adc37f3331c0",
       "version_major": 2,
       "version_minor": 0
      },
      "text/plain": [
       "interactive(children=(Dropdown(description='Año : ', index=6, options=(2010, 2011, 2012, 2013, 2014, 2015, 201…"
      ]
     },
     "metadata": {},
     "output_type": "display_data"
    }
   ],
   "source": [
    "INDICADORES_HEATMAP = {\n",
    "    \"estudiantes_mujeres_pct\" : \"Ratio de estudiantes mujeres\",\n",
    "    \"estudiantes_grupo_pct\" : \"Ratio de estudiantes\",\n",
    "    \"estudiantes_varones\" : \"Total de estudiantes hombres\",\n",
    "    #\"estudiantes_mujeres\" : \"Total de estudiantes mujeres\", \n",
    "    #\"inscriptos_mujeres_pct\" : \"Ratio de inscriptas mujeres \",\n",
    "    #\"inscriptos_hombres_pct\" : \"Ratio de inscriptas hombres \",\n",
    "    #\"estudiantes_hombres_pct\" : \"Ratio de estudiantes hombres \",\n",
    "}\n",
    "variables_indicadores = {\n",
    "    \"Ratio mujeres\": \"estudiantes_mujeres_pct\",\n",
    "    \"Ratio grupo\": \"estudiantes_grupo_pct\",\n",
    "    \"Est. hombres\": \"estudiantes_varones\"\n",
    "}\n",
    "\n",
    "variables_carreras_heatmap = sorted(df_evolucion_ubicacion.carrera_grupo.unique())\n",
    "variables_anio_heatmap = sorted(df_evolucion_ubicacion.anio.unique())\n",
    "\n",
    "widget_indicador = widgets.ToggleButtons(\n",
    "    options=variables_indicadores.items(),\n",
    "    description=\"Indicador : \",\n",
    "    value=\"estudiantes_mujeres_pct\"\n",
    ")\n",
    "\n",
    "widget_carreras = widgets.Dropdown(\n",
    "    options=variables_carreras_heatmap,\n",
    "    description=\"Grupo : \",\n",
    "    value=\"Tecnologia\"\n",
    ")\n",
    "\n",
    "widget_anio = widgets.Dropdown(\n",
    "    options=variables_anio_heatmap,\n",
    "    description=\"Año : \",\n",
    "    value=2016\n",
    ")\n",
    "\n",
    "widget_scale = widgets.RadioButtons(\n",
    "    options=['Cuantiles', 'Fija', 'Relativa'],\n",
    "    description='Escala :',\n",
    "    value='Relativa'\n",
    ")\n",
    "\n",
    "@interact(anio=widget_anio,\n",
    "          carrera_grupo=widget_carreras,\n",
    "          indicador=widget_indicador,\n",
    "          scale_type=widget_scale\n",
    "         )\n",
    "def generate_heat_map(anio, carrera_grupo, indicador, scale_type=None):\n",
    "    mapa_heatmap = folium.Map(location=argentina_coords, zoom_start=4)\n",
    "    folium.TileLayer(ign_labels, tms=True, attr=\"IGN\").add_to(mapa_heatmap)\n",
    "    \n",
    "    df_filter = df_evolucion_ubicacion[(df_evolucion_ubicacion.anio == anio)&\n",
    "                           (df_evolucion_ubicacion.carrera_grupo == carrera_grupo)]\n",
    "    \n",
    "    if scale_type == 'Cuantiles':\n",
    "        bins = list(df_filter[indicador].quantile([0, 0.2, 0.4, 0.6, 0.8, 1]))\n",
    "    elif scale_type == 'Fija':\n",
    "        bins = get_bins(df_evolucion_ubicacion[indicador].min(), df_evolucion_ubicacion[indicador].max())\n",
    "    else:\n",
    "        bins = 5\n",
    "    \n",
    "    \n",
    "    indicador_desc = INDICADORES_HEATMAP[indicador]\n",
    "    folium.Choropleth(\n",
    "        geo_data=\"data/input/provincias.geojson\", # la capa de provincias en GeoJson\n",
    "        data=df_filter, # DataFrame con los datos a graficar\n",
    "        columns=['provincia_id', indicador], # columna con id de geometrías, columna con el dato\n",
    "        key_on='feature.properties.id', # campo del geojson que tiene el id de las geometrías\n",
    "        fill_color='YlGn', # escala de colores a usar\n",
    "        #fill_opacity=0.7, # opacidad del color de relleno\n",
    "        #line_opacity=0.2, # opacidad de las líneas que separan los polígonos\n",
    "        legend_name='{} en {} (Año {})'.format(indicador_desc, carrera_grupo, anio), # título de la leyenda de la escala\n",
    "        bins=bins\n",
    "    ).add_to(mapa_heatmap)\n",
    "    #mapas.add_labels_from_column(mapa_heatmap,df_evolucion_ubicacion,\"nombre\")\n",
    "\n",
    "    return mapa_heatmap\n",
    "#Agregar un tooltip que muestre informacion de la provincia al pasar el cursor. Nombre provincia, estudiantes totales, año, porcentaje de mujeres, cantidad de universidades por provincia.\n",
    "#Hacer zoom sobre la cuidad de buenos aires. Hacer un grafico nuevo\n",
    "#min, max y media de la variable analizada por grupo.\n",
    "#Agregar grafico de evolucion y/y entre provincias por grupo de carreras. Grafico de barras con la composicion de los grupos\n",
    "#Cambiar los nombres a los indices porque son muy tecnicos. Podriamos usar indice de feminidad, grupo??, masculidad\n",
    "#Se puede cambiar la escala cuando no hay datos?? (blancos o transparente)\n",
    "#Tabla con visualizacon y que tenga un orden de ranking para poder identificar facilmente cual es la provincia que mas avanzo"
   ]
  },
  {
   "cell_type": "markdown",
   "metadata": {},
   "source": [
    "## Markers"
   ]
  },
  {
   "cell_type": "code",
   "execution_count": 17,
   "metadata": {},
   "outputs": [],
   "source": [
    "def mapear_universidades(mapa, df, lat_col, lon_col, institucion_nombre_col, carreras_grupos_col):\n",
    "    \"\"\" cargar informacion al marker de forma masiva.\n",
    "\n",
    "        Args:\n",
    "            lat (float): latitud\n",
    "            lon (float): longuitud\n",
    "            institucion_nombre (str): nombre de la universidad\n",
    "            carreras_grupos (list): lista con las areas de estudios ofrecidas\n",
    "\n",
    "        \"\"\"\n",
    "    \n",
    "    for row in df_universidades.iterrows():\n",
    "        mapas.crear_marker(\n",
    "            mapa,\n",
    "            row[1][\"lat\"],\n",
    "            row[1][\"lon\"],\n",
    "            row[1][\"institucion_nombre\"],\n",
    "            str(row[1][\"carrera_grupo\"]).split(\",\")\n",
    "        )\n",
    "#agregar feminidad por grupo carrera, elegir si queremos hacer selector por año o elegir 2016.    "
   ]
  },
  {
   "cell_type": "code",
   "execution_count": 18,
   "metadata": {},
   "outputs": [
    {
     "data": {
      "text/plain": [
       "<folium.raster_layers.TileLayer at 0x10d3d23c8>"
      ]
     },
     "execution_count": 18,
     "metadata": {},
     "output_type": "execute_result"
    }
   ],
   "source": [
    "mapa_markers = folium.Map(location=argentina_coords, zoom_start=4)\n",
    "folium.TileLayer(ign_labels, tms=True, attr=\"IGN\").add_to(mapa_markers)"
   ]
  },
  {
   "cell_type": "code",
   "execution_count": 19,
   "metadata": {},
   "outputs": [],
   "source": [
    "mapear_universidades(mapa_markers,df_universidades,\"lat\",\"lon\",\"institucion_nombre\",\"carrera_grupo\")"
   ]
  },
  {
   "cell_type": "code",
   "execution_count": 20,
   "metadata": {
    "scrolled": false
   },
   "outputs": [
    {
     "data": {
      "text/html": [
       "<div style=\"width:100%;\"><div style=\"position:relative;width:100%;height:0;padding-bottom:60%;\"><iframe src=\"data:text/html;charset=utf-8;base64,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\" style=\"position:absolute;width:100%;height:100%;left:0;top:0;border:none !important;\" allowfullscreen webkitallowfullscreen mozallowfullscreen></iframe></div></div>"
      ],
      "text/plain": [
       "<folium.folium.Map at 0x10d3d2e80>"
      ]
     },
     "execution_count": 20,
     "metadata": {},
     "output_type": "execute_result"
    }
   ],
   "source": [
    "mapa_markers\n",
    "#Mapa + tabla \"donde estudio\" puedo hacer un filtro por grupo carrera (inverso a lo que estamos haciendo) \n",
    "#Cantidad de alumnas mujeres o comparacion de universidades\n",
    "#agregar al tooltip el indice de feminidad"
   ]
  }
 ],
 "metadata": {
  "kernelspec": {
   "display_name": "Python 3",
   "language": "python",
   "name": "python3"
  },
  "language_info": {
   "codemirror_mode": {
    "name": "ipython",
    "version": 3
   },
   "file_extension": ".py",
   "mimetype": "text/x-python",
   "name": "python",
   "nbconvert_exporter": "python",
   "pygments_lexer": "ipython3",
   "version": "3.7.3"
  }
 },
 "nbformat": 4,
 "nbformat_minor": 2
}
