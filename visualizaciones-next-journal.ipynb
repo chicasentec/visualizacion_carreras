{
 "cells": [
  {
   "cell_type": "markdown",
   "metadata": {},
   "source": [
    "# Visualizacion varias"
   ]
  },
  {
   "cell_type": "code",
   "execution_count": 1,
   "metadata": {},
   "outputs": [
    {
     "ename": "ImportError",
     "evalue": "dlopen(/Users/abenassi/anaconda/envs/proyecto-next-journal/lib/python3.7/site-packages/fiona/ogrext.cpython-37m-darwin.so, 2): Library not loaded: @rpath/libpoppler.76.dylib\n  Referenced from: /Users/abenassi/anaconda/envs/proyecto-next-journal/lib/libgdal.20.dylib\n  Reason: image not found",
     "output_type": "error",
     "traceback": [
      "\u001b[0;31m---------------------------------------------------------------------------\u001b[0m",
      "\u001b[0;31mImportError\u001b[0m                               Traceback (most recent call last)",
      "\u001b[0;32m<ipython-input-1-52c0bcf5cb9e>\u001b[0m in \u001b[0;36m<module>\u001b[0;34m\u001b[0m\n\u001b[1;32m      6\u001b[0m \u001b[0;32mfrom\u001b[0m \u001b[0mscipy\u001b[0m \u001b[0;32mimport\u001b[0m \u001b[0mstats\u001b[0m\u001b[0;34m\u001b[0m\u001b[0;34m\u001b[0m\u001b[0m\n\u001b[1;32m      7\u001b[0m \u001b[0;32mimport\u001b[0m \u001b[0mseaborn\u001b[0m \u001b[0;32mas\u001b[0m \u001b[0msns\u001b[0m\u001b[0;34m\u001b[0m\u001b[0;34m\u001b[0m\u001b[0m\n\u001b[0;32m----> 8\u001b[0;31m \u001b[0;32mimport\u001b[0m \u001b[0mgeopandas\u001b[0m \u001b[0;32mas\u001b[0m \u001b[0mgpd\u001b[0m\u001b[0;34m\u001b[0m\u001b[0;34m\u001b[0m\u001b[0m\n\u001b[0m\u001b[1;32m      9\u001b[0m \u001b[0;32mimport\u001b[0m \u001b[0mmatplotlib\u001b[0m\u001b[0;34m\u001b[0m\u001b[0;34m\u001b[0m\u001b[0m\n\u001b[1;32m     10\u001b[0m \u001b[0;32mimport\u001b[0m \u001b[0mipywidgets\u001b[0m \u001b[0;32mas\u001b[0m \u001b[0mwidgets\u001b[0m\u001b[0;34m\u001b[0m\u001b[0;34m\u001b[0m\u001b[0m\n",
      "\u001b[0;32m~/anaconda/envs/proyecto-next-journal/lib/python3.7/site-packages/geopandas/__init__.py\u001b[0m in \u001b[0;36m<module>\u001b[0;34m\u001b[0m\n\u001b[1;32m      3\u001b[0m \u001b[0;32mfrom\u001b[0m \u001b[0mgeopandas\u001b[0m\u001b[0;34m.\u001b[0m\u001b[0mgeodataframe\u001b[0m \u001b[0;32mimport\u001b[0m \u001b[0mpoints_from_xy\u001b[0m\u001b[0;34m\u001b[0m\u001b[0;34m\u001b[0m\u001b[0m\n\u001b[1;32m      4\u001b[0m \u001b[0;34m\u001b[0m\u001b[0m\n\u001b[0;32m----> 5\u001b[0;31m \u001b[0;32mfrom\u001b[0m \u001b[0mgeopandas\u001b[0m\u001b[0;34m.\u001b[0m\u001b[0mio\u001b[0m\u001b[0;34m.\u001b[0m\u001b[0mfile\u001b[0m \u001b[0;32mimport\u001b[0m \u001b[0mread_file\u001b[0m\u001b[0;34m\u001b[0m\u001b[0;34m\u001b[0m\u001b[0m\n\u001b[0m\u001b[1;32m      6\u001b[0m \u001b[0;32mfrom\u001b[0m \u001b[0mgeopandas\u001b[0m\u001b[0;34m.\u001b[0m\u001b[0mio\u001b[0m\u001b[0;34m.\u001b[0m\u001b[0msql\u001b[0m \u001b[0;32mimport\u001b[0m \u001b[0mread_postgis\u001b[0m\u001b[0;34m\u001b[0m\u001b[0;34m\u001b[0m\u001b[0m\n\u001b[1;32m      7\u001b[0m \u001b[0;32mfrom\u001b[0m \u001b[0mgeopandas\u001b[0m\u001b[0;34m.\u001b[0m\u001b[0mtools\u001b[0m \u001b[0;32mimport\u001b[0m \u001b[0msjoin\u001b[0m\u001b[0;34m\u001b[0m\u001b[0;34m\u001b[0m\u001b[0m\n",
      "\u001b[0;32m~/anaconda/envs/proyecto-next-journal/lib/python3.7/site-packages/geopandas/io/file.py\u001b[0m in \u001b[0;36m<module>\u001b[0;34m\u001b[0m\n\u001b[1;32m      2\u001b[0m \u001b[0;32mfrom\u001b[0m \u001b[0mdistutils\u001b[0m\u001b[0;34m.\u001b[0m\u001b[0mversion\u001b[0m \u001b[0;32mimport\u001b[0m \u001b[0mLooseVersion\u001b[0m\u001b[0;34m\u001b[0m\u001b[0;34m\u001b[0m\u001b[0m\n\u001b[1;32m      3\u001b[0m \u001b[0;34m\u001b[0m\u001b[0m\n\u001b[0;32m----> 4\u001b[0;31m \u001b[0;32mimport\u001b[0m \u001b[0mfiona\u001b[0m\u001b[0;34m\u001b[0m\u001b[0;34m\u001b[0m\u001b[0m\n\u001b[0m\u001b[1;32m      5\u001b[0m \u001b[0;32mimport\u001b[0m \u001b[0mnumpy\u001b[0m \u001b[0;32mas\u001b[0m \u001b[0mnp\u001b[0m\u001b[0;34m\u001b[0m\u001b[0;34m\u001b[0m\u001b[0m\n\u001b[1;32m      6\u001b[0m \u001b[0;34m\u001b[0m\u001b[0m\n",
      "\u001b[0;32m~/anaconda/envs/proyecto-next-journal/lib/python3.7/site-packages/fiona/__init__.py\u001b[0m in \u001b[0;36m<module>\u001b[0;34m\u001b[0m\n\u001b[1;32m     81\u001b[0m     \u001b[0mos\u001b[0m\u001b[0;34m.\u001b[0m\u001b[0menviron\u001b[0m\u001b[0;34m[\u001b[0m\u001b[0;34m\"PATH\"\u001b[0m\u001b[0;34m]\u001b[0m \u001b[0;34m=\u001b[0m \u001b[0mos\u001b[0m\u001b[0;34m.\u001b[0m\u001b[0menviron\u001b[0m\u001b[0;34m[\u001b[0m\u001b[0;34m\"PATH\"\u001b[0m\u001b[0;34m]\u001b[0m \u001b[0;34m+\u001b[0m \u001b[0;34m\";\"\u001b[0m \u001b[0;34m+\u001b[0m \u001b[0mlibdir\u001b[0m\u001b[0;34m\u001b[0m\u001b[0;34m\u001b[0m\u001b[0m\n\u001b[1;32m     82\u001b[0m \u001b[0;34m\u001b[0m\u001b[0m\n\u001b[0;32m---> 83\u001b[0;31m \u001b[0;32mfrom\u001b[0m \u001b[0mfiona\u001b[0m\u001b[0;34m.\u001b[0m\u001b[0mcollection\u001b[0m \u001b[0;32mimport\u001b[0m \u001b[0mBytesCollection\u001b[0m\u001b[0;34m,\u001b[0m \u001b[0mCollection\u001b[0m\u001b[0;34m\u001b[0m\u001b[0;34m\u001b[0m\u001b[0m\n\u001b[0m\u001b[1;32m     84\u001b[0m \u001b[0;32mfrom\u001b[0m \u001b[0mfiona\u001b[0m\u001b[0;34m.\u001b[0m\u001b[0mdrvsupport\u001b[0m \u001b[0;32mimport\u001b[0m \u001b[0msupported_drivers\u001b[0m\u001b[0;34m\u001b[0m\u001b[0;34m\u001b[0m\u001b[0m\n\u001b[1;32m     85\u001b[0m \u001b[0;32mfrom\u001b[0m \u001b[0mfiona\u001b[0m\u001b[0;34m.\u001b[0m\u001b[0menv\u001b[0m \u001b[0;32mimport\u001b[0m \u001b[0mensure_env_with_credentials\u001b[0m\u001b[0;34m,\u001b[0m \u001b[0mEnv\u001b[0m\u001b[0;34m\u001b[0m\u001b[0;34m\u001b[0m\u001b[0m\n",
      "\u001b[0;32m~/anaconda/envs/proyecto-next-journal/lib/python3.7/site-packages/fiona/collection.py\u001b[0m in \u001b[0;36m<module>\u001b[0;34m\u001b[0m\n\u001b[1;32m      7\u001b[0m \u001b[0;34m\u001b[0m\u001b[0m\n\u001b[1;32m      8\u001b[0m \u001b[0;32mfrom\u001b[0m \u001b[0mfiona\u001b[0m \u001b[0;32mimport\u001b[0m \u001b[0mcompat\u001b[0m\u001b[0;34m,\u001b[0m \u001b[0mvfs\u001b[0m\u001b[0;34m\u001b[0m\u001b[0;34m\u001b[0m\u001b[0m\n\u001b[0;32m----> 9\u001b[0;31m \u001b[0;32mfrom\u001b[0m \u001b[0mfiona\u001b[0m\u001b[0;34m.\u001b[0m\u001b[0mogrext\u001b[0m \u001b[0;32mimport\u001b[0m \u001b[0mIterator\u001b[0m\u001b[0;34m,\u001b[0m \u001b[0mItemsIterator\u001b[0m\u001b[0;34m,\u001b[0m \u001b[0mKeysIterator\u001b[0m\u001b[0;34m\u001b[0m\u001b[0;34m\u001b[0m\u001b[0m\n\u001b[0m\u001b[1;32m     10\u001b[0m \u001b[0;32mfrom\u001b[0m \u001b[0mfiona\u001b[0m\u001b[0;34m.\u001b[0m\u001b[0mogrext\u001b[0m \u001b[0;32mimport\u001b[0m \u001b[0mSession\u001b[0m\u001b[0;34m,\u001b[0m \u001b[0mWritingSession\u001b[0m\u001b[0;34m\u001b[0m\u001b[0;34m\u001b[0m\u001b[0m\n\u001b[1;32m     11\u001b[0m \u001b[0;32mfrom\u001b[0m \u001b[0mfiona\u001b[0m\u001b[0;34m.\u001b[0m\u001b[0mogrext\u001b[0m \u001b[0;32mimport\u001b[0m \u001b[0mbuffer_to_virtual_file\u001b[0m\u001b[0;34m,\u001b[0m \u001b[0mremove_virtual_file\u001b[0m\u001b[0;34m,\u001b[0m \u001b[0mGEOMETRY_TYPES\u001b[0m\u001b[0;34m\u001b[0m\u001b[0;34m\u001b[0m\u001b[0m\n",
      "\u001b[0;31mImportError\u001b[0m: dlopen(/Users/abenassi/anaconda/envs/proyecto-next-journal/lib/python3.7/site-packages/fiona/ogrext.cpython-37m-darwin.so, 2): Library not loaded: @rpath/libpoppler.76.dylib\n  Referenced from: /Users/abenassi/anaconda/envs/proyecto-next-journal/lib/libgdal.20.dylib\n  Reason: image not found"
     ]
    }
   ],
   "source": [
    "import pandas as pd\n",
    "import numpy as np\n",
    "import matplotlib.pyplot as plt\n",
    "from matplotlib.ticker import MaxNLocator\n",
    "from collections import namedtuple\n",
    "from scipy import stats\n",
    "import seaborn as sns\n",
    "import geopandas as gpd\n",
    "import matplotlib\n",
    "import ipywidgets as widgets\n",
    "from ipywidgets import interact\n",
    "matplotlib.style.use(\"ggplot\")\n",
    "import folium\n",
    "from folium.plugins import DualMap \n",
    "from scripts import mapas, pygal_helpers, georef, download\n",
    "from shapely.geometry import Polygon, MultiPolygon\n",
    "from pygal_helpers import df_to_pygal_line, get_pygal_html\n",
    "from datetime import datetime\n",
    "from IPython.display import HTML, display"
   ]
  },
  {
   "cell_type": "markdown",
   "metadata": {},
   "source": [
    "## Evolucion de genero en grupo de carreras"
   ]
  },
  {
   "cell_type": "code",
   "execution_count": null,
   "metadata": {},
   "outputs": [],
   "source": [
    "df_evolucion_carreras = pd.read_csv('data/output/grupos_evolucion_genero.csv',delimiter=',')\n",
    "df_evolucion_grupos_carreras = pd.read_csv('data/output/grupos_carreras_evolucion_genero.csv',delimiter=',')\n",
    "df_evolucion_carreras.head(10)"
   ]
  },
  {
   "cell_type": "code",
   "execution_count": null,
   "metadata": {},
   "outputs": [],
   "source": [
    "df_evolucion_carreras[\n",
    "    (df_evolucion_carreras.carrera_grupo == \"Derecho\") &\n",
    "    (df_evolucion_carreras.anio == 2012)\n",
    "]"
   ]
  },
  {
   "cell_type": "code",
   "execution_count": null,
   "metadata": {},
   "outputs": [],
   "source": [
    "#Comparacion de valores absolutos de hombres y mujeres - nuevas inscripciones/ filtro por carrera (eje primaro y secundario??)"
   ]
  },
  {
   "cell_type": "code",
   "execution_count": null,
   "metadata": {},
   "outputs": [],
   "source": [
    "variables_carreras_evolucion = tuple(df_evolucion_carreras.carrera_grupo.unique())\n",
    "widget_grupos=widgets.SelectMultiple(\n",
    "    options=sorted(variables_carreras_evolucion),\n",
    "    value=[\"Tecnologia\"],\n",
    "    #rows=10,\n",
    "    description='Areas Tematicas',\n",
    "    disabled=False\n",
    ")"
   ]
  },
  {
   "cell_type": "code",
   "execution_count": null,
   "metadata": {},
   "outputs": [],
   "source": [
    "#Version final\n",
    "variables_indicadores_line = {\n",
    "    \"Ratio mujeres\": \"estudiantes_mujeres_pct\",\n",
    "    \"Est. hombres\": \"estudiantes_hombres_pct\"\n",
    "}\n",
    "\n",
    "widget_indicador = widgets.ToggleButtons(\n",
    "    options=variables_indicadores_line.items(),\n",
    "    description=\"Indicador : \",\n",
    "    value=\"estudiantes_mujeres_pct\"\n",
    ")\n",
    "\n",
    "def format_pct(value):\n",
    "    if pd.notnull(value):\n",
    "        return round((value*100),1)\n",
    "    else:\n",
    "        return value\n",
    "\n",
    "@interact(carrera_grupo=widget_grupos, indicador=widget_indicador)\n",
    "def generate_chart_evolucion_grupos(carrera_grupo, indicador):\n",
    "    serie_grupo_carrera = df_evolucion_carreras[df_evolucion_carreras.carrera_grupo.isin(carrera_grupo)][[\n",
    "        \"anio\", 'carrera_grupo',  indicador]]\n",
    "    serie_grupo_carrera[indicador]=serie_grupo_carrera[indicador].apply(format_pct)\n",
    "    df_pivot_serie_grupo_carrera = serie_grupo_carrera.pivot_table(\n",
    "        index='anio', columns='carrera_grupo', values=indicador)\n",
    "    return HTML(get_pygal_html(df_to_pygal_line(df_pivot_serie_grupo_carrera)))\n",
    "        \n",
    "#aclarar en nota que los valores son porcentajes"
   ]
  },
  {
   "cell_type": "code",
   "execution_count": null,
   "metadata": {},
   "outputs": [],
   "source": [
    "#Version Carrera nombre\n",
    "@interact(carrera_grupo=widget_grupos) #widget diferente\n",
    "def generate_chart_evolucion_grupos(carrera_grupo):\n",
    "    serie_grupo_carrera = df_evolucion_grupos_carreras[df_evolucion_grupos_carreras.carrera_grupo.isin(carrera_grupo)][[\n",
    "        \"anio\", 'carrera_nombre',  \"estudiantes_mujeres_pct\"]]\n",
    "    df_pivot_serie_grupo_carrera = serie_grupo_carrera.pivot_table(index='anio', columns='carrera_nombre', values='estudiantes_mujeres_pct')\n",
    "    return HTML(get_pygal_html(df_to_pygal_line(df_pivot_serie_grupo_carrera)))\n",
    "        "
   ]
  },
  {
   "cell_type": "code",
   "execution_count": null,
   "metadata": {},
   "outputs": [],
   "source": [
    "#Una vez revisado, armar funcion para este tipo de grafico con un grupo de carrera, me devuelve todas las carreras.\n",
    "# buscar una lib de grafico de linea con tooltip dinamico\n",
    "#grupo = 'Economicas'\n",
    "#df_grupo_carrera = df_evolucion_grupos_carreras[df_evolucion_grupos_carreras.carrera_grupo == grupo][[\n",
    "#        \"anio\", \"estudiantes_mujeres_pct\", 'carrera_nombre', 'carrera_grupo'\n",
    "#    ]]\n",
    "#df_grupo_carrera.pivot_table(index='anio', columns='carrera_nombre', values='estudiantes_mujeres_pct').plot(\n",
    "#figsize=(20,20))"
   ]
  },
  {
   "cell_type": "code",
   "execution_count": null,
   "metadata": {},
   "outputs": [],
   "source": [
    "#variables_carreras_evolucion = df_evolucion_grupos_carreras.carrera_grupo.unique()\n",
    "#said @interact(carrera_grupo = sorted(variables_carreras_evolucion))\n",
    "#def generate_chart_evolucion_carreras(carrera_grupo):\n",
    "#    df_grupo_carrera = df_evolucion_grupos_carreras[df_evolucion_grupos_carreras.carrera_grupo == carrera_grupo][[\n",
    "#        \"anio\", \"estudiantes_mujeres_pct\"\n",
    "#    ]]\n",
    "#    return serie_grupo_carrera.set_index(\"anio\").plot()\n",
    "    \n",
    "#agregar mas de un filtro para ir comparando\n",
    "#modificar en ETL abogacia y derecho\n",
    "#apertura por carreras para entender donde hace el pico y decrecimiento tech - cambiar pKEY por carrera y grupo carrera - grafico exploratorio\n",
    "#segunda tabla de ETL donde haya grupo carrera (carrera) + universidades\n",
    "#grafico con valores absolutos - apilados o algo que represente orden de magnitud año por default "
   ]
  },
  {
   "cell_type": "markdown",
   "metadata": {},
   "source": [
    "## Mapa universidades"
   ]
  },
  {
   "cell_type": "code",
   "execution_count": null,
   "metadata": {},
   "outputs": [],
   "source": [
    "df_universidades = pd.read_csv('data/output/universidades_mapa.csv',delimiter=',')\n",
    "df_evolucion_ubicacion = pd.read_csv('data/output/ubicacion_evolucion_genero.csv',delimiter=',', dtype={'provincia_id': str})\n",
    "#revisar etl no perder el str de los numeros\n",
    "#df_evolucion_ubicacion_test = pd.read_csv('data/output/ubicacion_evolucion_genero_test.csv',\n",
    "                                          #delimiter=',', dtype={'provincia_id': str})\n",
    "#revisar etl no perder el str de los numeros"
   ]
  },
  {
   "cell_type": "code",
   "execution_count": null,
   "metadata": {},
   "outputs": [],
   "source": [
    "argentina_coords = [-40, -64]\n",
    "osm_no_labels = \"https://tiles.wmflabs.org/osm-no-labels/{z}/{x}/{y}.png\"\n",
    "ign_labels = \"http://wms.ign.gob.ar/geoserver/gwc/service/tms/1.0.0/capabaseargenmap@EPSG%3A3857@png/{z}/{x}/{y}.png\""
   ]
  },
  {
   "cell_type": "markdown",
   "metadata": {},
   "source": [
    "## Heat map"
   ]
  },
  {
   "cell_type": "code",
   "execution_count": null,
   "metadata": {},
   "outputs": [],
   "source": [
    "df_evolucion_ubicacion['provincia_id'] = df_evolucion_ubicacion.provincia_id.str.zfill(2)"
   ]
  },
  {
   "cell_type": "code",
   "execution_count": null,
   "metadata": {},
   "outputs": [],
   "source": [
    "def get_bins(min_value, max_value, bins_num=5):\n",
    "    step = (max_value - min_value) / bins_num\n",
    "    bins = list(np.arange(min_value, max_value, step))\n",
    "    bins.append(max_value)\n",
    "    return bins"
   ]
  },
  {
   "cell_type": "code",
   "execution_count": null,
   "metadata": {},
   "outputs": [],
   "source": [
    "INDICADORES_HEATMAP = {\n",
    "    \"estudiantes_mujeres_pct\" : \"Ratio de estudiantes mujeres\",\n",
    "    \"estudiantes_grupo_pct\" : \"Ratio de estudiantes\",\n",
    "    \"estudiantes_varones\" : \"Total de estudiantes hombres\",\n",
    "    #\"estudiantes_mujeres\" : \"Total de estudiantes mujeres\", \n",
    "    #\"inscriptos_mujeres_pct\" : \"Ratio de inscriptas mujeres \",\n",
    "    #\"inscriptos_hombres_pct\" : \"Ratio de inscriptas hombres \",\n",
    "    #\"estudiantes_hombres_pct\" : \"Ratio de estudiantes hombres \",\n",
    "}\n",
    "variables_indicadores = {\n",
    "    \"Ratio mujeres\": \"estudiantes_mujeres_pct\",\n",
    "    \"Ratio grupo\": \"estudiantes_grupo_pct\",\n",
    "    \"Est. hombres\": \"estudiantes_varones\"\n",
    "}\n",
    "\n",
    "variables_carreras_heatmap = sorted(df_evolucion_ubicacion.carrera_grupo.unique())\n",
    "variables_anio_heatmap = sorted(df_evolucion_ubicacion.anio.unique())\n",
    "\n",
    "widget_indicador = widgets.ToggleButtons(\n",
    "    options=variables_indicadores.items(),\n",
    "    description=\"Indicador : \",\n",
    "    value=\"estudiantes_mujeres_pct\"\n",
    ")\n",
    "\n",
    "widget_carreras = widgets.Dropdown(\n",
    "    options=variables_carreras_heatmap,\n",
    "    description=\"Grupo : \",\n",
    "    value=\"Tecnologia\"\n",
    ")\n",
    "\n",
    "widget_anio = widgets.Dropdown(\n",
    "    options=variables_anio_heatmap,\n",
    "    description=\"Año : \",\n",
    "    value=2016\n",
    ")\n",
    "\n",
    "widget_scale = widgets.RadioButtons(\n",
    "    options=['Cuantiles', 'Fija', 'Relativa'],\n",
    "    description='Escala :',\n",
    "    value='Relativa'\n",
    ")\n",
    "\n",
    "@interact(anio=widget_anio,\n",
    "          carrera_grupo=widget_carreras,\n",
    "          indicador=widget_indicador,\n",
    "          scale_type=widget_scale\n",
    "         )\n",
    "def generate_heat_map(anio, carrera_grupo, indicador, scale_type=None):\n",
    "    mapa_heatmap = folium.Map(location=argentina_coords, zoom_start=4)\n",
    "    folium.TileLayer(ign_labels, tms=True, attr=\"IGN\").add_to(mapa_heatmap)\n",
    "    \n",
    "    df_filter = df_evolucion_ubicacion[(df_evolucion_ubicacion.anio == anio)&\n",
    "                           (df_evolucion_ubicacion.carrera_grupo == carrera_grupo)]\n",
    "    \n",
    "    if scale_type == 'Cuantiles':\n",
    "        bins = list(df_filter[indicador].quantile([0, 0.2, 0.4, 0.6, 0.8, 1]))\n",
    "    elif scale_type == 'Fija':\n",
    "        bins = get_bins(df_evolucion_ubicacion[indicador].min(), df_evolucion_ubicacion[indicador].max())\n",
    "    else:\n",
    "        bins = 5\n",
    "    \n",
    "    \n",
    "    indicador_desc = INDICADORES_HEATMAP[indicador]\n",
    "    folium.Choropleth(\n",
    "        geo_data=\"data/input/provincias.geojson\", # la capa de provincias en GeoJson\n",
    "        data=df_filter, # DataFrame con los datos a graficar\n",
    "        columns=['provincia_id', indicador], # columna con id de geometrías, columna con el dato\n",
    "        key_on='feature.properties.id', # campo del geojson que tiene el id de las geometrías\n",
    "        fill_color='YlGn', # escala de colores a usar\n",
    "        #fill_opacity=0.7, # opacidad del color de relleno\n",
    "        #line_opacity=0.2, # opacidad de las líneas que separan los polígonos\n",
    "        legend_name='{} en {} (Año {})'.format(indicador_desc, carrera_grupo, anio), # título de la leyenda de la escala\n",
    "        bins=bins\n",
    "    ).add_to(mapa_heatmap)\n",
    "    #mapas.add_labels_from_column(mapa_heatmap,df_evolucion_ubicacion,\"nombre\")\n",
    "\n",
    "    return mapa_heatmap\n",
    "#Agregar un tooltip que muestre informacion de la provincia al pasar el cursor. Nombre provincia, estudiantes totales, año, porcentaje de mujeres, cantidad de universidades por provincia.\n",
    "#Hacer zoom sobre la cuidad de buenos aires. Hacer un grafico nuevo\n",
    "#min, max y media de la variable analizada por grupo.\n",
    "#Agregar grafico de evolucion y/y entre provincias por grupo de carreras. Grafico de barras con la composicion de los grupos\n",
    "#Cambiar los nombres a los indices porque son muy tecnicos. Podriamos usar indice de feminidad, grupo??, masculidad\n",
    "#Se puede cambiar la escala cuando no hay datos?? (blancos o transparente)\n",
    "#Tabla con visualizacon y que tenga un orden de ranking para poder identificar facilmente cual es la provincia que mas avanzo"
   ]
  },
  {
   "cell_type": "markdown",
   "metadata": {},
   "source": [
    "## Markers"
   ]
  },
  {
   "cell_type": "code",
   "execution_count": null,
   "metadata": {},
   "outputs": [],
   "source": [
    "def mapear_universidades(mapa, df, lat_col, lon_col, institucion_nombre_col, carreras_grupos_col):\n",
    "    \"\"\" cargar informacion al marker de forma masiva.\n",
    "\n",
    "        Args:\n",
    "            lat (float): latitud\n",
    "            lon (float): longuitud\n",
    "            institucion_nombre (str): nombre de la universidad\n",
    "            carreras_grupos (list): lista con las areas de estudios ofrecidas\n",
    "\n",
    "        \"\"\"\n",
    "    \n",
    "    for row in df_universidades.iterrows():\n",
    "        mapas.crear_marker(\n",
    "            mapa,\n",
    "            row[1][\"lat\"],\n",
    "            row[1][\"lon\"],\n",
    "            row[1][\"institucion_nombre\"],\n",
    "            str(row[1][\"carrera_grupo\"]).split(\",\")\n",
    "        )\n",
    "#agregar feminidad por grupo carrera, elegir si queremos hacer selector por año o elegir 2016.    "
   ]
  },
  {
   "cell_type": "code",
   "execution_count": null,
   "metadata": {},
   "outputs": [],
   "source": [
    "mapa_markers = folium.Map(location=argentina_coords, zoom_start=4)\n",
    "folium.TileLayer(ign_labels, tms=True, attr=\"IGN\").add_to(mapa_markers)"
   ]
  },
  {
   "cell_type": "code",
   "execution_count": null,
   "metadata": {},
   "outputs": [],
   "source": [
    "mapear_universidades(mapa_markers,df_universidades,\"lat\",\"lon\",\"institucion_nombre\",\"carrera_grupo\")"
   ]
  },
  {
   "cell_type": "code",
   "execution_count": null,
   "metadata": {
    "scrolled": false
   },
   "outputs": [],
   "source": [
    "mapa_markers\n",
    "#Mapa + tabla \"donde estudio\" puedo hacer un filtro por grupo carrera (inverso a lo que estamos haciendo) \n",
    "#Cantidad de alumnas mujeres o comparacion de universidades\n",
    "#agregar al tooltip el indice de feminidad"
   ]
  }
 ],
 "metadata": {
  "kernelspec": {
   "display_name": "Python 3",
   "language": "python",
   "name": "python3"
  },
  "language_info": {
   "codemirror_mode": {
    "name": "ipython",
    "version": 3
   },
   "file_extension": ".py",
   "mimetype": "text/x-python",
   "name": "python",
   "nbconvert_exporter": "python",
   "pygments_lexer": "ipython3",
   "version": "3.7.3"
  },
  "toc": {
   "colors": {
    "hover_highlight": "#DAA520",
    "running_highlight": "#FF0000",
    "selected_highlight": "#FFD700"
   },
   "moveMenuLeft": true,
   "nav_menu": {
    "height": "102px",
    "width": "252px"
   },
   "navigate_menu": true,
   "number_sections": true,
   "sideBar": true,
   "threshold": 4,
   "toc_cell": false,
   "toc_section_display": "block",
   "toc_window_display": false
  }
 },
 "nbformat": 4,
 "nbformat_minor": 2
}
